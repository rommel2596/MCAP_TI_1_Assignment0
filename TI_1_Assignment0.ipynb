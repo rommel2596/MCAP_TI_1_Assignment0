{
 "cells": [
  {
   "cell_type": "markdown",
   "metadata": {},
   "source": [
    "# Assignment 0\n",
    "\n",
    "**Name: Rommel Antunez Barrios** \n",
    "\n",
    "**e-mail: rommel.antunez6474@alumnos.udg.mx**"
   ]
  },
  {
   "cell_type": "markdown",
   "metadata": {},
   "source": [
    "# MODULES"
   ]
  },
  {
   "cell_type": "markdown",
   "metadata": {},
   "source": [
    "## Load modules numpy and matplotlib"
   ]
  },
  {
   "cell_type": "code",
   "execution_count": 1,
   "metadata": {},
   "outputs": [],
   "source": [
    "import numpy as np\n",
    "import matplotlib.pyplot as plt"
   ]
  },
  {
   "cell_type": "markdown",
   "metadata": {},
   "source": [
    "> if an error shows up, then install modules using\n",
    "> `pip install numpy matplotlib`"
   ]
  },
  {
   "cell_type": "markdown",
   "metadata": {},
   "source": [
    "# Theory on the Gradient Descent algorithm"
   ]
  },
  {
   "cell_type": "markdown",
   "metadata": {},
   "source": [
    "### Function to be optimized"
   ]
  },
  {
   "cell_type": "code",
   "execution_count": 2,
   "metadata": {},
   "outputs": [],
   "source": [
    "# 2D Function: Simple quadratic bowl\n",
    "def f(x, y):\n",
    "    return x**2 + y**2\n",
    "\n",
    "# Gradient of f\n",
    "def df(x, y):\n",
    "    return np.array([2*x, 2*y]) # Derivative\n"
   ]
  },
  {
   "cell_type": "markdown",
   "metadata": {},
   "source": [
    "### Gradient Descent Algorithm"
   ]
  },
  {
   "cell_type": "code",
   "execution_count": null,
   "metadata": {},
   "outputs": [],
   "source": [
    "# Gradient Descent Function\n",
    "def gradient_descent(f, df, initial_xy, learning_rate, iterations):\n",
    "    xy = np.array(initial_xy)\n",
    "    path = [xy]  # Store the path of the gradient descent\n",
    "    for _ in range(iterations):\n",
    "        gradient = df(xy[0], xy[1])\n",
    "        xy = xy - learning_rate * gradient # Get the new position on the opposite direction\n",
    "        path.append(xy)\n",
    "    return np.array(path)"
   ]
  },
  {
   "cell_type": "code",
   "execution_count": 4,
   "metadata": {},
   "outputs": [],
   "source": [
    "# Run gradient descent algorithm\n",
    "\n",
    "def plot_gradient_descent(f, df, initial_xy, learning_rate, iterations, title):\n",
    "    path = gradient_descent(f, df, initial_xy, learning_rate, iterations)\n",
    "    x_vals = np.linspace(np.min(path[:, 0])-1, np.max(path[:, 0])+1, 500)\n",
    "    y_vals = np.linspace(np.min(path[:, 1])-1, np.max(path[:, 1])+1, 500)\n",
    "    X, Y = np.meshgrid(x_vals, y_vals)\n",
    "    Z = f(X, Y)\n",
    "\n",
    "    plt.figure(figsize=(10, 10))\n",
    "    plt.contour(X, Y, Z, levels=50)\n",
    "    plt.plot(path[:, 0], path[:, 1], 'r*-', label='Path of descent')\n",
    "    plt.scatter(path[-1, 0], path[-1, 1], color='blue', label='Local Minimum')\n",
    "    plt.title(title)\n",
    "    plt.xlabel('x')\n",
    "    plt.ylabel('y')\n",
    "    plt.legend()\n",
    "    plt.grid(True)\n",
    "    plt.show()\n",
    "    print (\"Local minimum found at [{}, {}]\".format(path[-1,0], path[-1,1])) "
   ]
  },
  {
   "cell_type": "code",
   "execution_count": 5,
   "metadata": {},
   "outputs": [],
   "source": [
    "# Plot the results"
   ]
  }
 ],
 "metadata": {
  "kernelspec": {
   "display_name": "python_mcap",
   "language": "python",
   "name": "python_mcap"
  },
  "language_info": {
   "codemirror_mode": {
    "name": "ipython",
    "version": 3
   },
   "file_extension": ".py",
   "mimetype": "text/x-python",
   "name": "python",
   "nbconvert_exporter": "python",
   "pygments_lexer": "ipython3",
   "version": "3.12.5"
  }
 },
 "nbformat": 4,
 "nbformat_minor": 4
}
